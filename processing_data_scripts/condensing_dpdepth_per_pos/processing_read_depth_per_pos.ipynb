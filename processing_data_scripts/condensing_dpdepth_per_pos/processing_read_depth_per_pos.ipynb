{
 "cells": [
  {
   "cell_type": "code",
   "execution_count": 1,
   "metadata": {},
   "outputs": [],
   "source": [
    "import pandas as pd"
   ]
  },
  {
   "cell_type": "code",
   "execution_count": 2,
   "metadata": {},
   "outputs": [],
   "source": [
    "file = \"/Users/isabelserrano/Documents/Science/Analyses/Conplastic_Strains/files_and_analyses/input_files/read_depth_per_pos.txt\"\n",
    "raw_file = pd.read_table(file)\n",
    "\n",
    "raw_file.reset_index(inplace = True)"
   ]
  },
  {
   "cell_type": "code",
   "execution_count": 3,
   "metadata": {},
   "outputs": [],
   "source": [
    "#column names were shifted one to the right due to lack of column name for the newly appended column \n",
    "raw_file.rename(columns = {\"index\":\"CHROM\", \"#Chrom\": \"POS\", \"Pos\" : \"REF\", \\\n",
    "                           \"Ref\":\"DEPTH\", \"DP\": \"NS\", \"Ns\":\"FILENAME\"}, inplace = True)"
   ]
  },
  {
   "cell_type": "code",
   "execution_count": 4,
   "metadata": {},
   "outputs": [],
   "source": [
    "raw_file[[\"SAMPLE\", \"EXTRA\"]] = raw_file.FILENAME.str.split(\".\", n = 1, expand = True)"
   ]
  },
  {
   "cell_type": "code",
   "execution_count": 5,
   "metadata": {
    "scrolled": true
   },
   "outputs": [
    {
     "name": "stderr",
     "output_type": "stream",
     "text": [
      "/Library/Frameworks/Python.framework/Versions/3.7/lib/python3.7/site-packages/ipykernel_launcher.py:3: SettingWithCopyWarning: \n",
      "A value is trying to be set on a copy of a slice from a DataFrame.\n",
      "Try using .loc[row_indexer,col_indexer] = value instead\n",
      "\n",
      "See the caveats in the documentation: https://pandas.pydata.org/pandas-docs/stable/user_guide/indexing.html#returning-a-view-versus-a-copy\n",
      "  This is separate from the ipykernel package so we can avoid doing imports until\n"
     ]
    }
   ],
   "source": [
    "processing_file = raw_file[[\"SAMPLE\", \"POS\", \"REF\", \"DEPTH\", \"NS\"]]\n",
    "#remember our vcfs are zero-indexed\n",
    "processing_file[\"START\"] = processing_file[\"POS\"] - 1"
   ]
  },
  {
   "cell_type": "code",
   "execution_count": 6,
   "metadata": {},
   "outputs": [
    {
     "name": "stderr",
     "output_type": "stream",
     "text": [
      "/Library/Frameworks/Python.framework/Versions/3.7/lib/python3.7/site-packages/ipykernel_launcher.py:1: SettingWithCopyWarning: \n",
      "A value is trying to be set on a copy of a slice from a DataFrame.\n",
      "Try using .loc[row_indexer,col_indexer] = value instead\n",
      "\n",
      "See the caveats in the documentation: https://pandas.pydata.org/pandas-docs/stable/user_guide/indexing.html#returning-a-view-versus-a-copy\n",
      "  \"\"\"Entry point for launching an IPython kernel.\n"
     ]
    }
   ],
   "source": [
    "processing_file[\"STRAIN\"] = processing_file[\"SAMPLE\"].str.split(pat = \"_\", expand = True)[0]\n",
    "processing_file[\"TISSUE\"] = processing_file[\"SAMPLE\"].str.split(pat = \"_\", expand = True)[2]\n",
    "processing_file[\"AGE_BIN\"] = processing_file[\"SAMPLE\"].str.split(pat = \"_\", expand = True)[1].str[0]\n",
    "processing_file[\"AGE_BIN\"] = processing_file[\"AGE_BIN\"].map({\"O\":\"OLD\", \"Y\": \"YOUNG\", \"M\":\"MID\"})"
   ]
  },
  {
   "cell_type": "code",
   "execution_count": 7,
   "metadata": {},
   "outputs": [],
   "source": [
    "output_file = processing_file[[\"SAMPLE\", \"STRAIN\", \"TISSUE\", \"AGE_BIN\", \"START\", \"REF\", \"DEPTH\", \"NS\"]]"
   ]
  },
  {
   "cell_type": "code",
   "execution_count": 8,
   "metadata": {},
   "outputs": [
    {
     "data": {
      "text/html": [
       "<div>\n",
       "<style scoped>\n",
       "    .dataframe tbody tr th:only-of-type {\n",
       "        vertical-align: middle;\n",
       "    }\n",
       "\n",
       "    .dataframe tbody tr th {\n",
       "        vertical-align: top;\n",
       "    }\n",
       "\n",
       "    .dataframe thead th {\n",
       "        text-align: right;\n",
       "    }\n",
       "</style>\n",
       "<table border=\"1\" class=\"dataframe\">\n",
       "  <thead>\n",
       "    <tr style=\"text-align: right;\">\n",
       "      <th></th>\n",
       "      <th>SAMPLE</th>\n",
       "      <th>STRAIN</th>\n",
       "      <th>TISSUE</th>\n",
       "      <th>AGE_BIN</th>\n",
       "      <th>START</th>\n",
       "      <th>REF</th>\n",
       "      <th>DEPTH</th>\n",
       "      <th>NS</th>\n",
       "    </tr>\n",
       "  </thead>\n",
       "  <tbody>\n",
       "    <tr>\n",
       "      <th>0</th>\n",
       "      <td>AKR_O1_Brain</td>\n",
       "      <td>AKR</td>\n",
       "      <td>Brain</td>\n",
       "      <td>OLD</td>\n",
       "      <td>0</td>\n",
       "      <td>G</td>\n",
       "      <td>12722</td>\n",
       "      <td>0</td>\n",
       "    </tr>\n",
       "    <tr>\n",
       "      <th>1</th>\n",
       "      <td>AKR_O1_Brain</td>\n",
       "      <td>AKR</td>\n",
       "      <td>Brain</td>\n",
       "      <td>OLD</td>\n",
       "      <td>1</td>\n",
       "      <td>T</td>\n",
       "      <td>12847</td>\n",
       "      <td>0</td>\n",
       "    </tr>\n",
       "    <tr>\n",
       "      <th>2</th>\n",
       "      <td>AKR_O1_Brain</td>\n",
       "      <td>AKR</td>\n",
       "      <td>Brain</td>\n",
       "      <td>OLD</td>\n",
       "      <td>2</td>\n",
       "      <td>T</td>\n",
       "      <td>13033</td>\n",
       "      <td>3</td>\n",
       "    </tr>\n",
       "    <tr>\n",
       "      <th>3</th>\n",
       "      <td>AKR_O1_Brain</td>\n",
       "      <td>AKR</td>\n",
       "      <td>Brain</td>\n",
       "      <td>OLD</td>\n",
       "      <td>3</td>\n",
       "      <td>A</td>\n",
       "      <td>13192</td>\n",
       "      <td>1</td>\n",
       "    </tr>\n",
       "    <tr>\n",
       "      <th>4</th>\n",
       "      <td>AKR_O1_Brain</td>\n",
       "      <td>AKR</td>\n",
       "      <td>Brain</td>\n",
       "      <td>OLD</td>\n",
       "      <td>4</td>\n",
       "      <td>A</td>\n",
       "      <td>13351</td>\n",
       "      <td>5</td>\n",
       "    </tr>\n",
       "    <tr>\n",
       "      <th>...</th>\n",
       "      <td>...</td>\n",
       "      <td>...</td>\n",
       "      <td>...</td>\n",
       "      <td>...</td>\n",
       "      <td>...</td>\n",
       "      <td>...</td>\n",
       "      <td>...</td>\n",
       "      <td>...</td>\n",
       "    </tr>\n",
       "    <tr>\n",
       "      <th>2151463</th>\n",
       "      <td>NZB_Y4_Liver</td>\n",
       "      <td>NZB</td>\n",
       "      <td>Liver</td>\n",
       "      <td>YOUNG</td>\n",
       "      <td>16294</td>\n",
       "      <td>A</td>\n",
       "      <td>14928</td>\n",
       "      <td>1</td>\n",
       "    </tr>\n",
       "    <tr>\n",
       "      <th>2151464</th>\n",
       "      <td>NZB_Y4_Liver</td>\n",
       "      <td>NZB</td>\n",
       "      <td>Liver</td>\n",
       "      <td>YOUNG</td>\n",
       "      <td>16295</td>\n",
       "      <td>A</td>\n",
       "      <td>14827</td>\n",
       "      <td>12</td>\n",
       "    </tr>\n",
       "    <tr>\n",
       "      <th>2151465</th>\n",
       "      <td>NZB_Y4_Liver</td>\n",
       "      <td>NZB</td>\n",
       "      <td>Liver</td>\n",
       "      <td>YOUNG</td>\n",
       "      <td>16296</td>\n",
       "      <td>C</td>\n",
       "      <td>14672</td>\n",
       "      <td>11</td>\n",
       "    </tr>\n",
       "    <tr>\n",
       "      <th>2151466</th>\n",
       "      <td>NZB_Y4_Liver</td>\n",
       "      <td>NZB</td>\n",
       "      <td>Liver</td>\n",
       "      <td>YOUNG</td>\n",
       "      <td>16297</td>\n",
       "      <td>A</td>\n",
       "      <td>14482</td>\n",
       "      <td>0</td>\n",
       "    </tr>\n",
       "    <tr>\n",
       "      <th>2151467</th>\n",
       "      <td>NZB_Y4_Liver</td>\n",
       "      <td>NZB</td>\n",
       "      <td>Liver</td>\n",
       "      <td>YOUNG</td>\n",
       "      <td>16298</td>\n",
       "      <td>A</td>\n",
       "      <td>14363</td>\n",
       "      <td>0</td>\n",
       "    </tr>\n",
       "  </tbody>\n",
       "</table>\n",
       "<p>2151468 rows × 8 columns</p>\n",
       "</div>"
      ],
      "text/plain": [
       "               SAMPLE STRAIN TISSUE AGE_BIN  START REF  DEPTH  NS\n",
       "0        AKR_O1_Brain    AKR  Brain     OLD      0   G  12722   0\n",
       "1        AKR_O1_Brain    AKR  Brain     OLD      1   T  12847   0\n",
       "2        AKR_O1_Brain    AKR  Brain     OLD      2   T  13033   3\n",
       "3        AKR_O1_Brain    AKR  Brain     OLD      3   A  13192   1\n",
       "4        AKR_O1_Brain    AKR  Brain     OLD      4   A  13351   5\n",
       "...               ...    ...    ...     ...    ...  ..    ...  ..\n",
       "2151463  NZB_Y4_Liver    NZB  Liver   YOUNG  16294   A  14928   1\n",
       "2151464  NZB_Y4_Liver    NZB  Liver   YOUNG  16295   A  14827  12\n",
       "2151465  NZB_Y4_Liver    NZB  Liver   YOUNG  16296   C  14672  11\n",
       "2151466  NZB_Y4_Liver    NZB  Liver   YOUNG  16297   A  14482   0\n",
       "2151467  NZB_Y4_Liver    NZB  Liver   YOUNG  16298   A  14363   0\n",
       "\n",
       "[2151468 rows x 8 columns]"
      ]
     },
     "execution_count": 8,
     "metadata": {},
     "output_type": "execute_result"
    }
   ],
   "source": [
    "output_file"
   ]
  },
  {
   "cell_type": "code",
   "execution_count": 9,
   "metadata": {},
   "outputs": [],
   "source": [
    "output_file_path = \"/Users/isabelserrano/Documents/Science/Analyses/Conplastic_Strains/files_and_analyses/input_files/cleaned_read_depth_per_pos.txt\"\n",
    "output_file.to_csv(output_file_path, sep = \"\\t\", index = None)"
   ]
  },
  {
   "cell_type": "code",
   "execution_count": null,
   "metadata": {},
   "outputs": [],
   "source": []
  }
 ],
 "metadata": {
  "kernelspec": {
   "display_name": "Python 3",
   "language": "python",
   "name": "python3"
  },
  "language_info": {
   "codemirror_mode": {
    "name": "ipython",
    "version": 3
   },
   "file_extension": ".py",
   "mimetype": "text/x-python",
   "name": "python",
   "nbconvert_exporter": "python",
   "pygments_lexer": "ipython3",
   "version": "3.7.3"
  }
 },
 "nbformat": 4,
 "nbformat_minor": 4
}
