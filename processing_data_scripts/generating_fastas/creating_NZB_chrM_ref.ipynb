{
 "cells": [
  {
   "cell_type": "code",
   "execution_count": 1,
   "metadata": {},
   "outputs": [],
   "source": [
    "import pandas as pd\n",
    "import io\n",
    "import os\n",
    "import argparse\n",
    "from Bio import SeqIO\n",
    "from Bio.SeqRecord import SeqRecord"
   ]
  },
  {
   "cell_type": "code",
   "execution_count": 2,
   "metadata": {},
   "outputs": [],
   "source": [
    "chrM_file = \"../../input_files/chrM.fa\"\n",
    "ref_seq = SeqIO.read(chrM_file, \"fasta\")\n",
    "\n",
    "haplotypes_file = \"../../input_files/haplotype_mutations.vcf\"\n",
    "haplotypes = pd.read_csv(haplotypes_file,  sep = \"\\t\")"
   ]
  },
  {
   "cell_type": "code",
   "execution_count": 3,
   "metadata": {},
   "outputs": [],
   "source": [
    "#Creating our haploptypes dictionary \n",
    "#only keep SNVs\n",
    "haplotypes = haplotypes[haplotypes[\"VARIANT_TYPE\"] == \"SNV\"]\n",
    "\n",
    "haplotypes = haplotypes.drop_duplicates(subset = [\"STRAIN\", \"START\"], \\\n",
    "                                                keep = \"first\")[[\"STRAIN\", \\\n",
    "                                                                 \"START\", \"REF\", \"ALT\"]]\n",
    "strains = list(haplotypes[\"STRAIN\"].unique())"
   ]
  },
  {
   "cell_type": "code",
   "execution_count": 4,
   "metadata": {},
   "outputs": [],
   "source": [
    "#Creating our haplotype dictionary \n",
    "#Coordinates are in 0-index\n",
    "haplotype_dict = {}\n",
    "for conplastic in strains:\n",
    "    #take the position, ref, and alt alleles for all haploptypes for a given strain & place into one list of lists\n",
    "    haplotype_info_for_strain = haplotypes[haplotypes[\"STRAIN\"] == conplastic]\n",
    "    haplotype_info_for_strain = haplotype_info_for_strain[[\"START\", \"REF\", \"ALT\"]].values.tolist()\n",
    "    #add the list of lists as a value to the strain keys\n",
    "    haplotype_dict[conplastic] = haplotype_info_for_strain"
   ]
  },
  {
   "cell_type": "code",
   "execution_count": 5,
   "metadata": {},
   "outputs": [],
   "source": [
    "def get_ref_genome(strain, haplotype_dict):\n",
    "    #we need to convert from a seq to a mutable object in order to mutate our sequence\n",
    "    strain_ref_genome = ref_seq.seq.tomutable()\n",
    "\n",
    "    haplotype_info = haplotype_dict[strain]\n",
    "\n",
    "    #we loop through each haplotype and mutate the ref sequence from mm10 accordingly\n",
    "    for index in range(0, len(haplotype_info)):\n",
    "        site = haplotype_info[index][0]\n",
    "        allele = haplotype_info[index][2]\n",
    "        strain_ref_genome[site] = allele\n",
    "\n",
    "    #convert back to a seq object in order to access all the methods\n",
    "    strain_ref_genome = strain_ref_genome.toseq()\n",
    "    return strain_ref_genome"
   ]
  },
  {
   "cell_type": "code",
   "execution_count": 6,
   "metadata": {},
   "outputs": [],
   "source": [
    "#note this ref genome is missing the two insertions that occur in the NUMT \n",
    "NZB_chrM_ref = get_ref_genome(\"NZB\", haplotype_dict)"
   ]
  },
  {
   "cell_type": "code",
   "execution_count": 7,
   "metadata": {},
   "outputs": [],
   "source": [
    "NZB_record = SeqRecord(NZB_chrM_ref, id = \"NZB_chrM\", name = \"NZB_chrM\", description = \"chrM with NZB SNP haplotypes\")"
   ]
  },
  {
   "cell_type": "code",
   "execution_count": 8,
   "metadata": {},
   "outputs": [
    {
     "data": {
      "text/plain": [
       "1"
      ]
     },
     "execution_count": 8,
     "metadata": {},
     "output_type": "execute_result"
    }
   ],
   "source": [
    "#writing out our fasta file \n",
    "output_file_path = \"../files/NZB_chrM.fa\"\n",
    "SeqIO.write(NZB_record, output_file_path,\"fasta\")"
   ]
  },
  {
   "cell_type": "code",
   "execution_count": null,
   "metadata": {},
   "outputs": [],
   "source": []
  }
 ],
 "metadata": {
  "kernelspec": {
   "display_name": "Python 3",
   "language": "python",
   "name": "python3"
  },
  "language_info": {
   "codemirror_mode": {
    "name": "ipython",
    "version": 3
   },
   "file_extension": ".py",
   "mimetype": "text/x-python",
   "name": "python",
   "nbconvert_exporter": "python",
   "pygments_lexer": "ipython3",
   "version": "3.7.3"
  }
 },
 "nbformat": 4,
 "nbformat_minor": 4
}
